{
 "cells": [
  {
   "cell_type": "code",
   "execution_count": 42,
   "metadata": {},
   "outputs": [
    {
     "name": "stdout",
     "output_type": "stream",
     "text": [
      "(600, 478)\n",
      "(478, 478)\n"
     ]
    },
    {
     "ename": "OSError",
     "evalue": "cannot write mode F as JPEG",
     "output_type": "error",
     "traceback": [
      "\u001b[1;31m---------------------------------------------------------------------------\u001b[0m",
      "\u001b[1;31mKeyError\u001b[0m                                  Traceback (most recent call last)",
      "File \u001b[1;32mc:\\Users\\tretiak\\Anaconda3\\lib\\site-packages\\PIL\\JpegImagePlugin.py:630\u001b[0m, in \u001b[0;36m_save\u001b[1;34m(im, fp, filename)\u001b[0m\n\u001b[0;32m    629\u001b[0m \u001b[39mtry\u001b[39;00m:\n\u001b[1;32m--> 630\u001b[0m     rawmode \u001b[39m=\u001b[39m RAWMODE[im\u001b[39m.\u001b[39;49mmode]\n\u001b[0;32m    631\u001b[0m \u001b[39mexcept\u001b[39;00m \u001b[39mKeyError\u001b[39;00m \u001b[39mas\u001b[39;00m e:\n",
      "\u001b[1;31mKeyError\u001b[0m: 'F'",
      "\nThe above exception was the direct cause of the following exception:\n",
      "\u001b[1;31mOSError\u001b[0m                                   Traceback (most recent call last)",
      "\u001b[1;32mc:\\Users\\tretiak\\Desktop\\NUMA01\\Project.ipynb Cell 1\u001b[0m in \u001b[0;36m<cell line: 36>\u001b[1;34m()\u001b[0m\n\u001b[0;32m     <a href='vscode-notebook-cell:/c%3A/Users/tretiak/Desktop/NUMA01/Project.ipynb#W1sZmlsZQ%3D%3D?line=33'>34</a>\u001b[0m \u001b[39m# save an image from a numpy array\u001b[39;00m\n\u001b[0;32m     <a href='vscode-notebook-cell:/c%3A/Users/tretiak/Desktop/NUMA01/Project.ipynb#W1sZmlsZQ%3D%3D?line=34'>35</a>\u001b[0m newimg \u001b[39m=\u001b[39m Image\u001b[39m.\u001b[39mfromarray(a)\n\u001b[1;32m---> <a href='vscode-notebook-cell:/c%3A/Users/tretiak/Desktop/NUMA01/Project.ipynb#W1sZmlsZQ%3D%3D?line=35'>36</a>\u001b[0m newimg\u001b[39m.\u001b[39;49msave(\u001b[39m\"\u001b[39;49m\u001b[39mnew_kvinna2.jpg\u001b[39;49m\u001b[39m\"\u001b[39;49m)\n\u001b[0;32m     <a href='vscode-notebook-cell:/c%3A/Users/tretiak/Desktop/NUMA01/Project.ipynb#W1sZmlsZQ%3D%3D?line=36'>37</a>\u001b[0m \u001b[39m# plot an image , use colormap gray\u001b[39;00m\n\u001b[0;32m     <a href='vscode-notebook-cell:/c%3A/Users/tretiak/Desktop/NUMA01/Project.ipynb#W1sZmlsZQ%3D%3D?line=37'>38</a>\u001b[0m \u001b[39mfrom\u001b[39;00m \u001b[39mmatplotlib\u001b[39;00m \u001b[39mimport\u001b[39;00m pyplot \u001b[39mas\u001b[39;00m plt\n",
      "File \u001b[1;32mc:\\Users\\tretiak\\Anaconda3\\lib\\site-packages\\PIL\\Image.py:2212\u001b[0m, in \u001b[0;36mImage.save\u001b[1;34m(self, fp, format, **params)\u001b[0m\n\u001b[0;32m   2209\u001b[0m         fp \u001b[39m=\u001b[39m builtins\u001b[39m.\u001b[39mopen(filename, \u001b[39m\"\u001b[39m\u001b[39mw+b\u001b[39m\u001b[39m\"\u001b[39m)\n\u001b[0;32m   2211\u001b[0m \u001b[39mtry\u001b[39;00m:\n\u001b[1;32m-> 2212\u001b[0m     save_handler(\u001b[39mself\u001b[39;49m, fp, filename)\n\u001b[0;32m   2213\u001b[0m \u001b[39mfinally\u001b[39;00m:\n\u001b[0;32m   2214\u001b[0m     \u001b[39m# do what we can to clean up\u001b[39;00m\n\u001b[0;32m   2215\u001b[0m     \u001b[39mif\u001b[39;00m open_fp:\n",
      "File \u001b[1;32mc:\\Users\\tretiak\\Anaconda3\\lib\\site-packages\\PIL\\JpegImagePlugin.py:632\u001b[0m, in \u001b[0;36m_save\u001b[1;34m(im, fp, filename)\u001b[0m\n\u001b[0;32m    630\u001b[0m     rawmode \u001b[39m=\u001b[39m RAWMODE[im\u001b[39m.\u001b[39mmode]\n\u001b[0;32m    631\u001b[0m \u001b[39mexcept\u001b[39;00m \u001b[39mKeyError\u001b[39;00m \u001b[39mas\u001b[39;00m e:\n\u001b[1;32m--> 632\u001b[0m     \u001b[39mraise\u001b[39;00m \u001b[39mOSError\u001b[39;00m(\u001b[39mf\u001b[39m\u001b[39m\"\u001b[39m\u001b[39mcannot write mode \u001b[39m\u001b[39m{\u001b[39;00mim\u001b[39m.\u001b[39mmode\u001b[39m}\u001b[39;00m\u001b[39m as JPEG\u001b[39m\u001b[39m\"\u001b[39m) \u001b[39mfrom\u001b[39;00m \u001b[39me\u001b[39;00m\n\u001b[0;32m    634\u001b[0m info \u001b[39m=\u001b[39m im\u001b[39m.\u001b[39mencoderinfo\n\u001b[0;32m    636\u001b[0m dpi \u001b[39m=\u001b[39m [\u001b[39mround\u001b[39m(x) \u001b[39mfor\u001b[39;00m x \u001b[39min\u001b[39;00m info\u001b[39m.\u001b[39mget(\u001b[39m\"\u001b[39m\u001b[39mdpi\u001b[39m\u001b[39m\"\u001b[39m, (\u001b[39m0\u001b[39m, \u001b[39m0\u001b[39m))]\n",
      "\u001b[1;31mOSError\u001b[0m: cannot write mode F as JPEG"
     ]
    }
   ],
   "source": [
    "from PIL import Image\n",
    "# read image and convert to gray scale\n",
    "image = Image.open(\"kvinna.jpg\").convert(\"L\")\n",
    "# convert to numpy array\n",
    "import numpy as np\n",
    "a = np.asarray(image)\n",
    "print(a.shape)\n",
    "\n",
    "#w = np.zeros([478, 600])\n",
    "\n",
    "def wav(row,col):\n",
    "    j=0\n",
    "    w = np.zeros([row, col])\n",
    "    for i in range(int(row/2)):\n",
    "        if j<col:\n",
    "            w[i][j]=np.sqrt(2)/2 \n",
    "            w[i][j+1]=np.sqrt(2)/2\n",
    "            j+=2\n",
    "#print(w)\n",
    "#print(j)\n",
    "    j=0\n",
    "    for i in range(int(row/2),478):\n",
    "        if j<col:\n",
    "            w[i][j]=-np.sqrt(2)/2 \n",
    "            w[i][j+1]=np.sqrt(2)/2\n",
    "            j+=2\n",
    "    return w\n",
    "#print(w)\n",
    "w=np.array(wav(478,600))\n",
    "a=np.dot(w,a)\n",
    "print(a.shape)\n",
    "w1=np.array(wav(478,478))\n",
    "a=np.dot(a,w1.T)\n",
    "# save an image from a numpy array\n",
    "#fft_p = fft_p.astype(np.uint8)\n",
    "#newimg = Image.fromarray(a)\n",
    "newing = Image.fromarray(a)\n",
    "newing = newing.convert(\"L\")\n",
    "newing.save(\"new_kvinna2.jpg\")\n",
    "# plot an image , use colormap gray\n",
    "from matplotlib import pyplot as plt\n",
    "imgplt = plt.imshow(a, cmap='gray')\n",
    "plt.show()"
   ]
  }
 ],
 "metadata": {
  "kernelspec": {
   "display_name": "Python 3.9.12",
   "language": "python",
   "name": "python3"
  },
  "language_info": {
   "codemirror_mode": {
    "name": "ipython",
    "version": 3
   },
   "file_extension": ".py",
   "mimetype": "text/x-python",
   "name": "python",
   "nbconvert_exporter": "python",
   "pygments_lexer": "ipython3",
   "version": "3.9.12"
  },
  "orig_nbformat": 4,
  "vscode": {
   "interpreter": {
    "hash": "6938f3931593df390455a7c69981a45cd9ba2ce8651e0a07a79a702a323a3243"
   }
  }
 },
 "nbformat": 4,
 "nbformat_minor": 2
}
